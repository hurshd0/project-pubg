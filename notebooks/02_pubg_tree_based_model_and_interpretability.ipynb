{
 "cells": [
  {
   "cell_type": "code",
   "execution_count": null,
   "metadata": {
    "ExecuteTime": {
     "end_time": "2019-08-28T22:32:01.391923Z",
     "start_time": "2019-08-28T22:31:54.512521Z"
    }
   },
   "outputs": [],
   "source": [
    "################################ EDA IMPORTS ###################################\n",
    "%matplotlib inline\n",
    "import pandas as pd \n",
    "import pandas_profiling # Quick Data Analysis\n",
    "import numpy as np # Linear Algebra lib\n",
    "import matplotlib.pyplot as plt \n",
    "import seaborn as sns\n",
    "import plotly.graph_objs as go # interactive low-level plotting lib https://plot.ly/python/\n",
    "import plotly.express as px #high-level api wrapper for plotly https://plot.ly/python/plotly-express/#visualize-distributions\n",
    "# ---------------- Plot libs settings ------------- #\n",
    "# Pick style of Matplolib plots \n",
    "# Different style sheets:-> https://matplotlib.org/3.1.0/gallery/style_sheets/style_sheets_reference.html\n",
    "# Configure Seaborn Asthetics: -> https://seaborn.pydata.org/tutorial/aesthetics.html?highlight=style\n",
    "plt.style.use('seaborn-darkgrid')\n",
    "sns.set(context='notebook', style='darkgrid', palette='colorblind')\n",
    "# Seting a universal figure size \n",
    "plt.rcParams['figure.figsize'] = (10, 6)\n",
    "\n",
    "# ---------------- Pandas settings ------------- #\n",
    "pd.options.display.max_columns = 200\n",
    "pd.options.display.max_rows = 200\n",
    "\n",
    "################################################################################\n",
    "\n",
    "#################################### ML IMPORTS ################################\n",
    "### Pre-Processing\n",
    "import category_encoders as ce\n",
    "from sklearn.impute import SimpleImputer\n",
    "from sklearn.preprocessing import StandardScaler\n",
    "from sklearn.experimental import enable_iterative_imputer\n",
    "from sklearn.impute import IterativeImputer\n",
    "\n",
    "### Train/Test - Split & CV\n",
    "from sklearn.model_selection import train_test_split\n",
    "\n",
    "### Regressors\n",
    "from sklearn.ensemble import RandomForestRegressor\n",
    "from xgboost import XGBRegressor\n",
    "\n",
    "### Pipeline\n",
    "from sklearn.pipeline import make_pipeline\n",
    "\n",
    "### Feature Importance\n",
    "import eli5\n",
    "from eli5.sklearn import PermutationImportance\n",
    "\n",
    "### Tuning Hyperparameters\n",
    "from sklearn.model_selection import GridSearchCV\n",
    "\n",
    "\n",
    "\n",
    "################################################################################"
   ]
  },
  {
   "cell_type": "markdown",
   "metadata": {},
   "source": [
    "# Project PUBG 🤖💣💥🔫🤖 \n",
    "\n",
    "![](https://o.aolcdn.com/images/dims?quality=100&image_uri=http%3A%2F%2Fo.aolcdn.com%2Fhss%2Fstorage%2Fmidas%2Fb0be09f425cc5175fb413bc03c32dd0d%2F206235889%2Fpubg-ed.jpg&client=amp-blogside-v2&signature=88c6b77342cbeb0d25c0dc9d909018136aec1971)"
   ]
  },
  {
   "cell_type": "markdown",
   "metadata": {},
   "source": [
    "### Load Dataset"
   ]
  },
  {
   "cell_type": "code",
   "execution_count": null,
   "metadata": {
    "ExecuteTime": {
     "end_time": "2019-08-22T03:16:59.064781Z",
     "start_time": "2019-08-22T03:16:58.574552Z"
    },
    "scrolled": false
   },
   "outputs": [],
   "source": [
    "def load_dataset(f, verbose=True, develop=True):\n",
    "    df = pd.read_csv('../pubg-api/pubg_stats.csv')\n",
    "    df = reduce_mem_usage(df, verbose=verbose)\n",
    "    if verbose:\n",
    "        print('-' * 80)\n",
    "        print(\n",
    "        f'''\n",
    "        -------------------- SHAPE ---------------------\n",
    "        PUBG Stats: {df.shape}\n",
    "        ------------------------------------------------\n",
    "        ''')\n",
    "    return df\n",
    "\n",
    "train = load_dataset('../clean-datasets/train.csv')\n",
    "val = load_dataset('../clean-datasets/validate.csv')\n",
    "test = load_dataset('../clean-datasets/test.csv')\n",
    "\n",
    "train.head()"
   ]
  },
  {
   "cell_type": "markdown",
   "metadata": {},
   "source": [
    "## Feature Engineering"
   ]
  },
  {
   "cell_type": "code",
   "execution_count": null,
   "metadata": {},
   "outputs": [],
   "source": [
    "mask = (train['duration'] < 800) & (train['walkDistance'] == 0)\n",
    "train[mask]\n",
    "\n",
    "winPlace == 1 and walkDistance == 0 are cheaters or hacks in glitches\n",
    "\n",
    "drop outliers:\n",
    "\n",
    "- high weapons picked up\n",
    "- high ride distance, no kills\n",
    "- high walkdistance, no kills\n",
    "- high heals, no kills\n",
    "\n",
    "\n",
    "drop team killers\n",
    "\n"
   ]
  },
  {
   "cell_type": "code",
   "execution_count": null,
   "metadata": {},
   "outputs": [],
   "source": [
    "def feature_engineering(df):\n",
    "    \n",
    "    # Remove players that won with no kills, or winPlacePerc > 0.9\n",
    "    \n",
    "    \n",
    "    \n",
    "    \n",
    "    df['headKillsRatio'] = df['headshotKills'] / df['kills']\n",
    "    \n",
    "\n",
    "\n"
   ]
  },
  {
   "cell_type": "markdown",
   "metadata": {},
   "source": [
    "## Random Forest"
   ]
  },
  {
   "cell_type": "code",
   "execution_count": null,
   "metadata": {},
   "outputs": [],
   "source": []
  },
  {
   "cell_type": "code",
   "execution_count": null,
   "metadata": {},
   "outputs": [],
   "source": []
  },
  {
   "cell_type": "markdown",
   "metadata": {},
   "source": [
    "## Light GBM"
   ]
  },
  {
   "cell_type": "code",
   "execution_count": null,
   "metadata": {},
   "outputs": [],
   "source": []
  }
 ],
 "metadata": {
  "kernelspec": {
   "display_name": "Python 3.6 (practicalml)",
   "language": "python",
   "name": "practicalml"
  },
  "language_info": {
   "codemirror_mode": {
    "name": "ipython",
    "version": 3
   },
   "file_extension": ".py",
   "mimetype": "text/x-python",
   "name": "python",
   "nbconvert_exporter": "python",
   "pygments_lexer": "ipython3",
   "version": "3.6.7"
  }
 },
 "nbformat": 4,
 "nbformat_minor": 2
}
